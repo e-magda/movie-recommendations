{
 "cells": [
  {
   "cell_type": "code",
   "execution_count": null,
   "metadata": {},
   "outputs": [],
   "source": [
    "from jupyter_dash import JupyterDash\n",
    "import dash_core_components as dcc\n",
    "import dash_html_components as html\n",
    "import dash_bootstrap_components as dbc\n",
    "\n",
    "app = JupyterDash(name)\n",
    "\n",
    "# DATA -> select random movie among dataset\n",
    "selected_indexes = results_df[~results_df.isnull().any(axis=1)].index\n",
    "random_row = results_df.iloc[random.choice(selected_indexes), :]\n",
    "\n",
    "# FRONTEND -> display media reg. selected movie\n",
    "app.layout = html.Div([\n",
    "\n",
    "\n",
    "    html.Div(\n",
    "        html.Iframe(src=random_row['trailer_embed_url'], width=640, height=360),\n",
    "    style={'width':'46%', 'float':'left', 'marginBottom':'18px'}),\n",
    "\n",
    "    html.Div(\n",
    "        html.Iframe(src=random_row['complete_movie_embed_url'], width=640, height=360),\n",
    "    style={'width':'46%', 'float':'left'}),\n",
    "\n",
    "])\n",
    "\n",
    "# SERVER\n",
    "app.run_server(mode='external')"
   ]
  }
 ],
 "metadata": {
  "kernelspec": {
   "display_name": "Python 3",
   "language": "python",
   "name": "python3"
  },
  "language_info": {
   "codemirror_mode": {
    "name": "ipython",
    "version": 3
   },
   "file_extension": ".py",
   "mimetype": "text/x-python",
   "name": "python",
   "nbconvert_exporter": "python",
   "pygments_lexer": "ipython3",
   "version": "3.8.5"
  }
 },
 "nbformat": 4,
 "nbformat_minor": 4
}
